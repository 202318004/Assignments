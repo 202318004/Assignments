{
  "nbformat": 4,
  "nbformat_minor": 0,
  "metadata": {
    "colab": {
      "provenance": [],
      "authorship_tag": "ABX9TyMrlO7RqpiZi4tqYssesZ21",
      "include_colab_link": true
    },
    "kernelspec": {
      "name": "python3",
      "display_name": "Python 3"
    },
    "language_info": {
      "name": "python"
    }
  },
  "cells": [
    {
      "cell_type": "markdown",
      "metadata": {
        "id": "view-in-github",
        "colab_type": "text"
      },
      "source": [
        "<a href=\"https://colab.research.google.com/github/202318004/Assignments/blob/main/BDAsig1_part2.ipynb\" target=\"_parent\"><img src=\"https://colab.research.google.com/assets/colab-badge.svg\" alt=\"Open In Colab\"/></a>"
      ]
    },
    {
      "cell_type": "markdown",
      "source": [
        "* Name : Atharva Virkar\n",
        "* S_Id : 202318004"
      ],
      "metadata": {
        "id": "FuhoQmFI_mYF"
      }
    },
    {
      "cell_type": "code",
      "execution_count": null,
      "metadata": {
        "id": "MmVjjT-1-uZ_"
      },
      "outputs": [],
      "source": [
        "import pandas as pd\n",
        "import requests\n",
        "from bs4 import BeautifulSoup"
      ]
    },
    {
      "cell_type": "markdown",
      "source": [
        "##Task-B\n",
        "This segment of the assignment is designed to enhance your understanding of the API\n",
        "call process and dataset creation. Utilize any freely available API endpoint on Rapidapi to\n",
        "generate a dataset."
      ],
      "metadata": {
        "id": "AIMdFWwm_HRb"
      }
    },
    {
      "cell_type": "code",
      "source": [
        "url = \"https://amazon-product-data6.p.rapidapi.com/product-by-text\"\n",
        "\n",
        "querystring = {\"keyword\":\"iphone\",\"page\":\"1\",\"country\":\"US\"}\n",
        "\n",
        "headers = {\n",
        "\t\"X-RapidAPI-Key\": \"9f5eaf4c07mshd0b692bd320bb00p1cdb47jsn51e0b3e09f5a\",\n",
        "\t\"X-RapidAPI-Host\": \"amazon-product-data6.p.rapidapi.com\"\n",
        "}\n",
        "\n",
        "response = requests.get(url, headers=headers, params=querystring)\n",
        "\n",
        "print(response.json())\n",
        "\n",
        "df1 = pd.DataFrame(response)\n",
        "print(df1)"
      ],
      "metadata": {
        "colab": {
          "base_uri": "https://localhost:8080/"
        },
        "id": "rTOx5etk-9SE",
        "outputId": "4ef82683-ea3b-4c1a-9680-64f432ee1927"
      },
      "execution_count": null,
      "outputs": [
        {
          "output_type": "stream",
          "name": "stdout",
          "text": [
            "{'status': 'ok', 'request_id': '5c2b617c-bff9-11ee-89cf-42004e494300', 'start_time': '2024-01-31 05:26:57', 'finish_time': '2024-01-31 05:27:00', 'data': [{'asin': 'B08PNCYYVZ', 'title': 'Apple iPhone 12, 128GB, Black - Fully Unlocked (Renewed)', 'url': 'https://www.amazon.com/dp/B08PNCYYVZ', 'image': 'https://m.media-amazon.com/images/I/41bIlvE1rdL._AC_UY218_.jpg', 'price': '$348.99', 'original_price': None, 'stars': 4.2, 'rating_count': 16312, 'bought_in_past_month': None, 'is_prime': True, 'is_best_seller': True, 'is_climate_pledge_friendly': False, 'is_limited_time_deal': False, 'is_sponsored': False}, {'asin': 'B07P5ZZH8D', 'title': 'Apple iPhone XR, US Version, 64GB, Blue - Unlocked (Renewed)', 'url': 'https://www.amazon.com/dp/B07P5ZZH8D', 'image': 'https://m.media-amazon.com/images/I/61FAlH3md+L._AC_UY218_.jpg', 'price': '$194.95', 'original_price': '$208.35', 'stars': 4.5, 'rating_count': 62791, 'bought_in_past_month': None, 'is_prime': True, 'is_best_seller': False, 'is_climate_pledge_friendly': True, 'is_limited_time_deal': False, 'is_sponsored': False}, {'asin': 'B07ZPJW2XH', 'title': 'Apple iPhone 11, 64GB, White - Fully Unlocked (Renewed)', 'url': 'https://www.amazon.com/dp/B07ZPJW2XH', 'image': 'https://m.media-amazon.com/images/I/31PY10NqSLL._AC_UY218_.jpg', 'price': '$245.75', 'original_price': '$264.80', 'stars': 4.3, 'rating_count': 46578, 'bought_in_past_month': None, 'is_prime': False, 'is_best_seller': False, 'is_climate_pledge_friendly': True, 'is_limited_time_deal': False, 'is_sponsored': False}, {'asin': 'B09LNFRHGN', 'title': 'Apple iPhone 13, 256GB, Blue - Unlocked (Renewed)', 'url': 'https://www.amazon.com/dp/B09LNFRHGN', 'image': 'https://m.media-amazon.com/images/I/71H8ipbuxoL._AC_UY218_.jpg', 'price': '$459.00', 'original_price': '$500.89', 'stars': 4.3, 'rating_count': 5312, 'bought_in_past_month': None, 'is_prime': False, 'is_best_seller': False, 'is_climate_pledge_friendly': True, 'is_limited_time_deal': False, 'is_sponsored': False}, {'asin': 'B08PNN2SKF', 'title': 'Apple iPhone 12 Mini, 64GB, Blue - Unlocked (Renewed)', 'url': 'https://www.amazon.com/dp/B08PNN2SKF', 'image': 'https://m.media-amazon.com/images/I/61M5w4HMIJL._AC_UY218_.jpg', 'price': '$256.00', 'original_price': '$311.76', 'stars': 4.2, 'rating_count': 9929, 'bought_in_past_month': None, 'is_prime': True, 'is_best_seller': False, 'is_climate_pledge_friendly': True, 'is_limited_time_deal': False, 'is_sponsored': False}, {'asin': 'B088NQXD8T', 'title': 'Apple iPhone SE 2nd Generation, US Version, 64GB, Black - Unlocked (Renewed)', 'url': 'https://www.amazon.com/dp/B088NQXD8T', 'image': 'https://m.media-amazon.com/images/I/813ovO0PGGL._AC_UY218_.jpg', 'price': '$146.97', 'original_price': '$156.86', 'stars': 4.3, 'rating_count': 15881, 'bought_in_past_month': None, 'is_prime': False, 'is_best_seller': False, 'is_climate_pledge_friendly': True, 'is_limited_time_deal': False, 'is_sponsored': False}, {'asin': 'B07K4V35TJ', 'title': 'Apple iPhone XS, 64GB, Gold - Fully Unlocked (Renewed)', 'url': 'https://www.amazon.com/dp/B07K4V35TJ', 'image': 'https://m.media-amazon.com/images/I/81wcv7XP3cL._AC_UY218_.jpg', 'price': '$192.99', 'original_price': None, 'stars': 4.3, 'rating_count': 4018, 'bought_in_past_month': None, 'is_prime': False, 'is_best_seller': False, 'is_climate_pledge_friendly': True, 'is_limited_time_deal': False, 'is_sponsored': False}, {'asin': 'B08PL89SJS', 'title': 'Apple iPhone 12 Pro Max 5G, US Version, 128GB, Graphite - Unlocked (Renewed)', 'url': 'https://www.amazon.com/dp/B08PL89SJS', 'image': 'https://m.media-amazon.com/images/I/61I39htrBbL._AC_UY218_.jpg', 'price': '$459.99', 'original_price': '$546.00', 'stars': 4.1, 'rating_count': 4880, 'bought_in_past_month': None, 'is_prime': False, 'is_best_seller': False, 'is_climate_pledge_friendly': True, 'is_limited_time_deal': False, 'is_sponsored': False}, {'asin': 'B07C357FSJ', 'title': 'Apple iPhone X, US Version, 64GB, Silver - Unlocked (Renewed)', 'url': 'https://www.amazon.com/dp/B07C357FSJ', 'image': 'https://m.media-amazon.com/images/I/81SSw14XZHL._AC_UY218_.jpg', 'price': '$172.77', 'original_price': '$193.00', 'stars': 4.2, 'rating_count': 24232, 'bought_in_past_month': None, 'is_prime': False, 'is_best_seller': False, 'is_climate_pledge_friendly': True, 'is_limited_time_deal': False, 'is_sponsored': False}, {'asin': 'B0B5FK6G8Q', 'title': 'iPhone 13 Pro, 256GB, Alpine Green - Unlocked (Renewed)', 'url': 'https://www.amazon.com/dp/B0B5FK6G8Q', 'image': 'https://m.media-amazon.com/images/I/61AwGDDZd3L._AC_UY218_.jpg', 'price': '$624.97', 'original_price': None, 'stars': 4.1, 'rating_count': 2147, 'bought_in_past_month': None, 'is_prime': False, 'is_best_seller': False, 'is_climate_pledge_friendly': True, 'is_limited_time_deal': False, 'is_sponsored': False}, {'asin': 'B0CNL7DMZC', 'title': 'Apple iPhone 8 64GB Unlocked - Gold', 'url': 'https://www.amazon.com/dp/B0CNL7DMZC', 'image': 'https://m.media-amazon.com/images/I/61aZ+koDWKL._AC_UY218_.jpg', 'price': '$128.99', 'original_price': '$165.00', 'stars': 3.9, 'rating_count': 21, 'bought_in_past_month': None, 'is_prime': False, 'is_best_seller': False, 'is_climate_pledge_friendly': False, 'is_limited_time_deal': False, 'is_sponsored': False}, {'asin': 'B0BN74G19R', 'title': 'Apple iPhone 14, 128GB, Blue for Verizon (Renewed)', 'url': 'https://www.amazon.com/dp/B0BN74G19R', 'image': 'https://m.media-amazon.com/images/I/61ufE2FHl7L._AC_UY218_.jpg', 'price': '$456.47', 'original_price': None, 'stars': 4.3, 'rating_count': 1278, 'bought_in_past_month': None, 'is_prime': False, 'is_best_seller': False, 'is_climate_pledge_friendly': True, 'is_limited_time_deal': False, 'is_sponsored': False}, {'asin': 'B0CNY9HRKJ', 'title': 'Apple iPhone 8 64GB Silver Unlocked', 'url': 'https://www.amazon.com/dp/B0CNY9HRKJ', 'image': 'https://m.media-amazon.com/images/I/51NtvVpxXhL._AC_UY218_.jpg', 'price': '$138.59', 'original_price': '$165.00', 'stars': 3.8, 'rating_count': 19, 'bought_in_past_month': None, 'is_prime': False, 'is_best_seller': False, 'is_climate_pledge_friendly': True, 'is_limited_time_deal': False, 'is_sponsored': False}, {'asin': 'B0BGQKY8S9', 'title': 'iPhone 13, 128GB, Midnight - Unlocked (Renewed Premium)', 'url': 'https://www.amazon.com/dp/B0BGQKY8S9', 'image': 'https://m.media-amazon.com/images/I/61VuVU94RnL._AC_UY218_.jpg', 'price': '$495.00', 'original_price': '$530.49', 'stars': 4.3, 'rating_count': 690, 'bought_in_past_month': None, 'is_prime': True, 'is_best_seller': False, 'is_climate_pledge_friendly': True, 'is_limited_time_deal': False, 'is_sponsored': False}, {'asin': 'B09LKYLHJS', 'title': 'Apple iPhone 13 Mini, 128GB, Red - Unlocked (Renewed)', 'url': 'https://www.amazon.com/dp/B09LKYLHJS', 'image': 'https://m.media-amazon.com/images/I/61VByDni+vL._AC_UY218_.jpg', 'price': '$409.00', 'original_price': '$443.00', 'stars': 4.3, 'rating_count': 2774, 'bought_in_past_month': None, 'is_prime': False, 'is_best_seller': False, 'is_climate_pledge_friendly': True, 'is_limited_time_deal': False, 'is_sponsored': False}, {'asin': 'B0BN9RKQL7', 'title': 'Apple iPhone 14 Plus, 128GB, Purple - Unlocked (Renewed)', 'url': 'https://www.amazon.com/dp/B0BN9RKQL7', 'image': 'https://m.media-amazon.com/images/I/61hp2RtGDZL._AC_UY218_.jpg', 'price': '$583.97', 'original_price': None, 'stars': 4.3, 'rating_count': 902, 'bought_in_past_month': None, 'is_prime': False, 'is_best_seller': False, 'is_climate_pledge_friendly': True, 'is_limited_time_deal': False, 'is_sponsored': False}]}\n",
            "                                                    0\n",
            "0   b'{\"status\":\"ok\",\"request_id\":\"5c2b617c-bff9-1...\n",
            "1   b'05:27:00\",\"data\":[{\"asin\":\"B08PNCYYVZ\",\"titl...\n",
            "2   b'zon.com/dp/B08PNCYYVZ\",\"image\":\"https://m.me...\n",
            "3   b'e\":null,\"stars\":4.2,\"rating_count\":16312,\"bo...\n",
            "4   b'iendly\":false,\"is_limited_time_deal\":false,\"...\n",
            "5   b', Blue - Unlocked (Renewed)\",\"url\":\"https://...\n",
            "6   b'+L._AC_UY218_.jpg\",\"price\":\"$194.95\",\"origin...\n",
            "7   b'_prime\":true,\"is_best_seller\":false,\"is_clim...\n",
            "8   b':\"B07ZPJW2XH\",\"title\":\"Apple iPhone 11, 64GB...\n",
            "9   b'age\":\"https://m.media-amazon.com/images/I/31...\n",
            "10  b'rating_count\":46578,\"bought_in_past_month\":n...\n",
            "11  b'mited_time_deal\":false,\"is_sponsored\":false}...\n",
            "12  b'rl\":\"https://www.amazon.com/dp/B09LNFRHGN\",\"...\n",
            "13  b'9.00\",\"original_price\":\"$500.89\",\"stars\":4.3...\n",
            "14  b'alse,\"is_climate_pledge_friendly\":true,\"is_l...\n",
            "15  b'hone 12 Mini, 64GB, Blue - Unlocked (Renewed...\n",
            "16  b'images/I/61M5w4HMIJL._AC_UY218_.jpg\",\"price\"...\n",
            "17  b't_month\":null,\"is_prime\":true,\"is_best_selle...\n",
            "18  b'd\":false},{\"asin\":\"B088NQXD8T\",\"title\":\"Appl...\n",
            "19  b'ps://www.amazon.com/dp/B088NQXD8T\",\"image\":\"...\n",
            "20  b'riginal_price\":\"$156.86\",\"stars\":4.3,\"rating...\n",
            "21  b's_climate_pledge_friendly\":true,\"is_limited_...\n",
            "22  b', 64GB, Gold - Fully Unlocked (Renewed)\",\"ur...\n",
            "23  b'/I/81wcv7XP3cL._AC_UY218_.jpg\",\"price\":\"$192...\n",
            "24  b'll,\"is_prime\":false,\"is_best_seller\":false,\"...\n",
            "25  b'{\"asin\":\"B08PL89SJS\",\"title\":\"Apple iPhone 1...\n",
            "26  b'mazon.com/dp/B08PL89SJS\",\"image\":\"https://m....\n",
            "27  b'ice\":\"$546.00\",\"stars\":4.1,\"rating_count\":48...\n",
            "28  b'ledge_friendly\":true,\"is_limited_time_deal\":...\n",
            "29  b', 64GB, Silver - Unlocked (Renewed)\",\"url\":\"...\n",
            "30  b'1SSw14XZHL._AC_UY218_.jpg\",\"price\":\"$172.77\"...\n",
            "31  b'null,\"is_prime\":false,\"is_best_seller\":false...\n",
            "32  b'},{\"asin\":\"B0B5FK6G8Q\",\"title\":\"iPhone 13 Pr...\n",
            "33  b'6G8Q\",\"image\":\"https://m.media-amazon.com/im...\n",
            "34  b'.1,\"rating_count\":2147,\"bought_in_past_month...\n",
            "35  b'_limited_time_deal\":false,\"is_sponsored\":fal...\n",
            "36  b'//www.amazon.com/dp/B0CNL7DMZC\",\"image\":\"htt...\n",
            "37  b'inal_price\":\"$165.00\",\"stars\":3.9,\"rating_co...\n",
            "38  b'ate_pledge_friendly\":false,\"is_limited_time_...\n",
            "39  b'GB, Blue for Verizon (Renewed)\",\"url\":\"https...\n",
            "40  b'FHl7L._AC_UY218_.jpg\",\"price\":\"$456.47\",\"ori...\n",
            "41  b'ime\":false,\"is_best_seller\":false,\"is_climat...\n",
            "42  b'B0CNY9HRKJ\",\"title\":\"Apple iPhone 8 64GB Sil...\n",
            "43  b'amazon.com/images/I/51NtvVpxXhL._AC_UY218_.j...\n",
            "44  b'ht_in_past_month\":null,\"is_prime\":false,\"is_...\n",
            "45  b's_sponsored\":false},{\"asin\":\"B0BGQKY8S9\",\"ti...\n",
            "46  b'azon.com/dp/B0BGQKY8S9\",\"image\":\"https://m.m...\n",
            "47  b'ce\":\"$530.49\",\"stars\":4.3,\"rating_count\":690...\n",
            "48  b'ge_friendly\":true,\"is_limited_time_deal\":fal...\n",
            "49  b'Red - Unlocked (Renewed)\",\"url\":\"https://www...\n",
            "50  b'_AC_UY218_.jpg\",\"price\":\"$409.00\",\"original_...\n",
            "51  b'me\":false,\"is_best_seller\":false,\"is_climate...\n",
            "52  b'0BN9RKQL7\",\"title\":\"Apple iPhone 14 Plus, 12...\n",
            "53  b'e\":\"https://m.media-amazon.com/images/I/61hp...\n",
            "54  b'count\":902,\"bought_in_past_month\":null,\"is_p...\n",
            "55           b'e_deal\":false,\"is_sponsored\":false}]}'\n"
          ]
        }
      ]
    },
    {
      "cell_type": "code",
      "source": [
        "df1.to_csv(r\"task_b.csv\")"
      ],
      "metadata": {
        "id": "41zcZdXjN0Md"
      },
      "execution_count": 4,
      "outputs": []
    },
    {
      "cell_type": "markdown",
      "source": [
        "##Task-C\n",
        "In this part of the assignment, you will learn how to construct a dataset by scraping a\n",
        "website online. Utilize BeautifulSoup or any other suitable scraping library to extract all the\n",
        "details of Amazon products and compile a dataset."
      ],
      "metadata": {
        "id": "A5N3-0b9_F2k"
      }
    },
    {
      "cell_type": "code",
      "source": [
        "url = \"https://a.co/d/7D53ynj\"\n",
        "data = requests.get(url)\n",
        "soup = BeautifulSoup(data.content, \"html.parser\")\n",
        "print(\"Scrapping Completed !!!!!!\\n\")\n",
        "# print(soup)\n",
        "\n",
        "print(\"Data Converted into DataFrame !!!!!!\\n\")\n",
        "df2 = pd.DataFrame(soup)\n",
        "print(df2)"
      ],
      "metadata": {
        "colab": {
          "base_uri": "https://localhost:8080/"
        },
        "id": "fiNascr0_BAT",
        "outputId": "6550adc5-8789-4c52-dd20-4009b3eff28b"
      },
      "execution_count": null,
      "outputs": [
        {
          "output_type": "stream",
          "name": "stdout",
          "text": [
            "Scrapping Completed !!!!!!\n",
            "\n",
            "Data Converted into DataFrame !!!!!!\n",
            "\n",
            "                                                   0\n",
            "0                                               html\n",
            "1  [ sp:feature:head-start , \\n, [[var aPageStart...\n",
            "2                                                 \\n\n",
            "3         _\\n       .__(.)< (MEOW)\\n        \\___)...\n",
            "4                                                 \\n\n",
            "5   sp:eh:VA2lW8hpTk8GHr0LZWYd74UuG8S+naY17lMtxH9...\n",
            "6                                                 \\n\n"
          ]
        }
      ]
    },
    {
      "cell_type": "code",
      "source": [
        "df2.to_csv(r\"task_c.csv\")"
      ],
      "metadata": {
        "id": "c702ZJAMOHCf"
      },
      "execution_count": 5,
      "outputs": []
    }
  ]
}